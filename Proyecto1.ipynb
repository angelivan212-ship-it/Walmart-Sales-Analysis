{
  "nbformat": 4,
  "nbformat_minor": 0,
  "metadata": {
    "colab": {
      "provenance": []
    },
    "kernelspec": {
      "name": "python3",
      "display_name": "Python 3"
    },
    "language_info": {
      "name": "python"
    }
  },
  "cells": [
    {
      "cell_type": "code",
      "execution_count": 3,
      "metadata": {
        "colab": {
          "base_uri": "https://localhost:8080/"
        },
        "id": "mxJ-DvhAwQM7",
        "outputId": "02860b7e-744b-4be1-dcdb-e8d38140cb9a"
      },
      "outputs": [
        {
          "output_type": "stream",
          "name": "stdout",
          "text": [
            "Using Colab cache for faster access to the 'walmart-sales' dataset.\n",
            "Path to dataset files: /kaggle/input/walmart-sales\n"
          ]
        }
      ],
      "source": [
        "import kagglehub\n",
        "\n",
        "# Download latest version\n",
        "path = kagglehub.dataset_download(\"mikhail1681/walmart-sales\")\n",
        "\n",
        "print(\"Path to dataset files:\", path)"
      ]
    },
    {
      "cell_type": "code",
      "source": [
        "import os\n",
        "\n",
        "# Ver todos los archivos dentro de la carpeta descargada\n",
        "print(\"Archivos dentro de la carpeta Kaggle:\")\n",
        "print(os.listdir(path))\n"
      ],
      "metadata": {
        "colab": {
          "base_uri": "https://localhost:8080/"
        },
        "id": "oxyBzSJGyiXZ",
        "outputId": "bdf0bf24-76ec-4295-bd4d-367b304e8857"
      },
      "execution_count": 5,
      "outputs": [
        {
          "output_type": "stream",
          "name": "stdout",
          "text": [
            "Archivos dentro de la carpeta Kaggle:\n",
            "['Walmart_Sales.csv']\n"
          ]
        }
      ]
    },
    {
      "cell_type": "code",
      "source": [
        "import pandas as pd\n",
        "\n",
        "file_path = os.path.join(path, \"Walmart_Sales.csv\")\n",
        "data = pd.read_csv(file_path)\n",
        "\n",
        "print(\"Primeras filas del dataset:\")\n",
        "print(data.head())\n"
      ],
      "metadata": {
        "colab": {
          "base_uri": "https://localhost:8080/"
        },
        "id": "ksmjfEXsz6rj",
        "outputId": "536212ca-a51f-4aa3-9299-be6871e421ae"
      },
      "execution_count": 6,
      "outputs": [
        {
          "output_type": "stream",
          "name": "stdout",
          "text": [
            "Primeras filas del dataset:\n",
            "   Store        Date  Weekly_Sales  Holiday_Flag  Temperature  Fuel_Price  \\\n",
            "0      1  05-02-2010    1643690.90             0        42.31       2.572   \n",
            "1      1  12-02-2010    1641957.44             1        38.51       2.548   \n",
            "2      1  19-02-2010    1611968.17             0        39.93       2.514   \n",
            "3      1  26-02-2010    1409727.59             0        46.63       2.561   \n",
            "4      1  05-03-2010    1554806.68             0        46.50       2.625   \n",
            "\n",
            "          CPI  Unemployment  \n",
            "0  211.096358         8.106  \n",
            "1  211.242170         8.106  \n",
            "2  211.289143         8.106  \n",
            "3  211.319643         8.106  \n",
            "4  211.350143         8.106  \n"
          ]
        }
      ]
    },
    {
      "cell_type": "code",
      "source": [
        "# Ver primeras filas\n",
        "print(data.head())\n",
        "\n",
        "# Ver información de las columnas\n",
        "print(data.info())\n",
        "\n",
        "# Resumen estadístico (promedio, mínimo, máximo, etc.)\n",
        "print(data.describe())\n"
      ],
      "metadata": {
        "colab": {
          "base_uri": "https://localhost:8080/"
        },
        "id": "OfcapiyP0QPl",
        "outputId": "9adaf25a-a1db-4bb4-99aa-de95585549ad"
      },
      "execution_count": 7,
      "outputs": [
        {
          "output_type": "stream",
          "name": "stdout",
          "text": [
            "   Store        Date  Weekly_Sales  Holiday_Flag  Temperature  Fuel_Price  \\\n",
            "0      1  05-02-2010    1643690.90             0        42.31       2.572   \n",
            "1      1  12-02-2010    1641957.44             1        38.51       2.548   \n",
            "2      1  19-02-2010    1611968.17             0        39.93       2.514   \n",
            "3      1  26-02-2010    1409727.59             0        46.63       2.561   \n",
            "4      1  05-03-2010    1554806.68             0        46.50       2.625   \n",
            "\n",
            "          CPI  Unemployment  \n",
            "0  211.096358         8.106  \n",
            "1  211.242170         8.106  \n",
            "2  211.289143         8.106  \n",
            "3  211.319643         8.106  \n",
            "4  211.350143         8.106  \n",
            "<class 'pandas.core.frame.DataFrame'>\n",
            "RangeIndex: 6435 entries, 0 to 6434\n",
            "Data columns (total 8 columns):\n",
            " #   Column        Non-Null Count  Dtype  \n",
            "---  ------        --------------  -----  \n",
            " 0   Store         6435 non-null   int64  \n",
            " 1   Date          6435 non-null   object \n",
            " 2   Weekly_Sales  6435 non-null   float64\n",
            " 3   Holiday_Flag  6435 non-null   int64  \n",
            " 4   Temperature   6435 non-null   float64\n",
            " 5   Fuel_Price    6435 non-null   float64\n",
            " 6   CPI           6435 non-null   float64\n",
            " 7   Unemployment  6435 non-null   float64\n",
            "dtypes: float64(5), int64(2), object(1)\n",
            "memory usage: 402.3+ KB\n",
            "None\n",
            "             Store  Weekly_Sales  Holiday_Flag  Temperature   Fuel_Price  \\\n",
            "count  6435.000000  6.435000e+03   6435.000000  6435.000000  6435.000000   \n",
            "mean     23.000000  1.046965e+06      0.069930    60.663782     3.358607   \n",
            "std      12.988182  5.643666e+05      0.255049    18.444933     0.459020   \n",
            "min       1.000000  2.099862e+05      0.000000    -2.060000     2.472000   \n",
            "25%      12.000000  5.533501e+05      0.000000    47.460000     2.933000   \n",
            "50%      23.000000  9.607460e+05      0.000000    62.670000     3.445000   \n",
            "75%      34.000000  1.420159e+06      0.000000    74.940000     3.735000   \n",
            "max      45.000000  3.818686e+06      1.000000   100.140000     4.468000   \n",
            "\n",
            "               CPI  Unemployment  \n",
            "count  6435.000000   6435.000000  \n",
            "mean    171.578394      7.999151  \n",
            "std      39.356712      1.875885  \n",
            "min     126.064000      3.879000  \n",
            "25%     131.735000      6.891000  \n",
            "50%     182.616521      7.874000  \n",
            "75%     212.743293      8.622000  \n",
            "max     227.232807     14.313000  \n"
          ]
        }
      ]
    },
    {
      "cell_type": "code",
      "source": [
        "ventas_tienda = data.groupby(\"Store\")[\"Weekly_Sales\"].sum().sort_values(ascending=False)\n",
        "\n",
        "plt.figure(figsize=(10,6))\n",
        "sns.barplot(x=ventas_tienda.index, y=ventas_tienda.values, palette=\"viridis\")\n",
        "plt.title(\"Ventas totales por tienda\")\n",
        "plt.xlabel(\"Tienda\")\n",
        "plt.ylabel(\"Ventas semanales totales\")\n",
        "plt.show()\n"
      ],
      "metadata": {
        "colab": {
          "base_uri": "https://localhost:8080/",
          "height": 651
        },
        "id": "UGhHMvId0pop",
        "outputId": "36cfd2ff-8f6e-4a90-ba97-3c1ba5667f36"
      },
      "execution_count": 9,
      "outputs": [
        {
          "output_type": "stream",
          "name": "stderr",
          "text": [
            "/tmp/ipython-input-1686368848.py:4: FutureWarning: \n",
            "\n",
            "Passing `palette` without assigning `hue` is deprecated and will be removed in v0.14.0. Assign the `x` variable to `hue` and set `legend=False` for the same effect.\n",
            "\n",
            "  sns.barplot(x=ventas_tienda.index, y=ventas_tienda.values, palette=\"viridis\")\n"
          ]
        },
        {
          "output_type": "display_data",
          "data": {
            "text/plain": [
              "<Figure size 1000x600 with 1 Axes>"
            ],
            "image/png": "[encoded data removed]"
          },
          "metadata": {}
        }
      ]
    }
  ]
}